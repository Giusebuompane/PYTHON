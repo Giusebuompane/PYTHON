{
 "cells": [
  {
   "cell_type": "markdown",
   "metadata": {},
   "source": [
    "# NIVEL 1"
   ]
  },
  {
   "cell_type": "markdown",
   "metadata": {},
   "source": [
    "- Exercici 1\n",
    "Calculadora de l'índex de massa corporal\n",
    "\n",
    "Escriu una funció que calculi l'IMC ingressat per l'usuari/ària, és a dir, qui ho executi haurà d'ingressar aquestes dades. Pots obtenir més informació del seu càlcul en:\n",
    "\n",
    "-> Índice de masa corporal IMC que es y como se calcula.\n",
    "\n",
    "La funció ha de classificar el resultat en les seves respectives categories"
   ]
  },
  {
   "cell_type": "code",
   "execution_count": 11,
   "metadata": {},
   "outputs": [
    {
     "name": "stdout",
     "output_type": "stream",
     "text": [
      "Tu peso es 80.0 kg, tu altura es 1.7 mt, tu IMC es 27.68, estás en la categoría: Sobrepeso\n"
     ]
    }
   ],
   "source": [
    "# Función para solicitar datos al usuario y calcular IMC directamente\n",
    "def solicitar_datos_IMC():\n",
    "    try:\n",
    "        peso = float(input(\"Inserta tu peso en kg: \"))  \n",
    "        altura = float(input(\"Inserta tu altura en metros (ejemplo: 1.80): \"))  \n",
    "        \n",
    "        # Si los datos son válidos, llamamos a las otras funciones directamente\n",
    "        imc = calcular_imc(peso, altura)\n",
    "        categoria = clasificar_imc(imc)\n",
    "        mostrar_resultado(peso, altura, imc, categoria)\n",
    "    \n",
    "    except ValueError:\n",
    "        print(\"Por favor, introduce un número válido\")\n",
    "\n",
    "# Función para calcular IMC\n",
    "def calcular_imc(peso, altura):\n",
    "    return round(peso / (altura ** 2), 2)\n",
    "\n",
    "# Función para clasificar el IMC\n",
    "def clasificar_imc(imc):\n",
    "    if imc < 18.5:\n",
    "        return \"Bajo Peso\"\n",
    "    elif imc <= 24.9:\n",
    "        return \"Peso Normal\"\n",
    "    elif imc <= 29.9:\n",
    "        return \"Sobrepeso\"\n",
    "    else:\n",
    "        return \"Obesidad\"\n",
    "\n",
    "# Función para mostrar el resultado\n",
    "def mostrar_resultado(peso, altura, imc, categoria):\n",
    "    print(f\"Tu peso es {peso} kg, tu altura es {altura} mt, tu IMC es {imc}, estás en la categoría: {categoria}\")\n",
    "\n",
    "# Llamamosa la función para ejecutar todo el programa\n",
    "solicitar_datos_IMC()"
   ]
  },
  {
   "cell_type": "markdown",
   "metadata": {},
   "source": [
    "- Exercici 2\n",
    "Convertidor de temperatures.\n",
    "\n",
    "Existeixen diverses unitats de temperatura utilitzades en diferents contextos i regions. Les més comunes són Celsius (°C), Fahrenheit (°F) i Kelvin (K). També existeixen altres unitats com Rankine (°Ra) i Réaumur (°Re). Selecciona almenys 2 conversors, de tal manera que en introduir una temperatura retorni, com a mínim, dues conversions."
   ]
  },
  {
   "cell_type": "markdown",
   "metadata": {},
   "source": [
    "aqui tal como hemos hecho en el ejercicio 1, hemos creado varias funciones: para la solicitud de tados, otra para la conversión, otra para mostrar resultados y la ultima que es la función principal que ejecuta el algoritmo completo utilizando todas las demás funciones."
   ]
  },
  {
   "cell_type": "code",
   "execution_count": 12,
   "metadata": {},
   "outputs": [
    {
     "name": "stdout",
     "output_type": "stream",
     "text": [
      "La conversión a Celsius es: 7.22°C, la conversión a Kelvin es: 280.37 K\n"
     ]
    }
   ],
   "source": [
    "# Función para realizar la conversión de grados\n",
    "def conversion(grados, tipo):\n",
    "    if tipo == \"C\":  # Convertir de Celsius a Fahrenheit y Kelvin\n",
    "        fahrenheit = (grados * 9 / 5) + 32  \n",
    "        kelvin = grados + 273.15\n",
    "        return round(fahrenheit, 2), round(kelvin, 2)  \n",
    "    \n",
    "    elif tipo == \"F\":  # Convertir de Fahrenheit a Celsius y Kelvin\n",
    "        celsius = (grados - 32) * 5 / 9\n",
    "        kelvin = (grados - 32) * 5 / 9 + 273.15\n",
    "        return round(celsius, 2), round(kelvin, 2)  \n",
    "    \n",
    "\n",
    "# Función para solicitar y devolver los datos del usuario\n",
    "def solicitar_datos():\n",
    "    tipo_grado = input(\"Inserta el tipo de grado a convertir (C/F): \").strip().upper()\n",
    "    grados = float(input(\"Inserta un número de grados: \"))  \n",
    "    return grados, tipo_grado  \n",
    "    \n",
    "\n",
    "# Función para mostrar los resultados de las conversiones\n",
    "def mostrar_resultado(grados1, grados2, tipo_grado):\n",
    "    tipos = {\n",
    "        'C': f\"La conversión a Fahrenheit es: {grados1}°F, la conversión a Kelvin es: {grados2} K\",\n",
    "        'F': f\"La conversión a Celsius es: {grados1}°C, la conversión a Kelvin es: {grados2} K\"\n",
    "    }\n",
    "    \n",
    "   \n",
    "    print(tipos[tipo_grado])\n",
    "\n",
    "\n",
    "# Función principal \n",
    "def conversion_principal():\n",
    "    try:\n",
    "        grados, tipo_grado = solicitar_datos()  # Solicitar los datos\n",
    "        grados1, grados2 = conversion(grados, tipo_grado)  # Realizar la conversión\n",
    "        mostrar_resultado(grados1, grados2, tipo_grado)  # Mostrar el resultado\n",
    "    except:\n",
    "        print(\"Por favor, introduce un valor válido\")\n",
    "\n",
    "conversion_principal()   \n",
    "    "
   ]
  },
  {
   "cell_type": "markdown",
   "metadata": {},
   "source": [
    "- Exercici 3\n",
    "Comptador de paraules d'un text.\n",
    "\n",
    "Escriu una funció que donat un text, mostri les vegades que apareix cada paraula."
   ]
  },
  {
   "cell_type": "code",
   "execution_count": 13,
   "metadata": {},
   "outputs": [
    {
     "name": "stdout",
     "output_type": "stream",
     "text": [
      "Las palabras que aparecen en el texto son: Counter({'hola': 3})\n"
     ]
    }
   ],
   "source": [
    "import re\n",
    "from collections import Counter\n",
    "\n",
    "# Función para contar palabras\n",
    "def contar_palabras(texto):\n",
    "    palabras = re.findall(r'\\b\\w+\\b', texto.lower())  # Extraemos palabras en minúsculas\n",
    "    return Counter(palabras)\n",
    "\n",
    "# Función principal \n",
    "def contar_texto():\n",
    "    texto = input(\"Introduce un texto: \")  # Pedimos al usuario que inserte un texto\n",
    "    num_palabra = contar_palabras(texto)  # Contamos las palabras con la función contar_palabras\n",
    "    print(f\"Las palabras que aparecen en el texto son: {num_palabra}\")  # Imprimimos el resultado\n",
    "    \n",
    "   \n",
    "contar_texto()"
   ]
  },
  {
   "cell_type": "markdown",
   "metadata": {},
   "source": [
    "- Exercici 4\n",
    "Diccionari invers.\n",
    "\n",
    "Resulta que el client té una enquesta molt antiga que s'emmagatzema en un diccionari i els resultats els necessita al revés, és a dir, intercanviats les claus i els valors. Els valors i claus en el diccionari original són únics; si aquest no és el cas, la funció hauria d'imprimir un missatge d'advertiment."
   ]
  },
  {
   "cell_type": "code",
   "execution_count": 14,
   "metadata": {},
   "outputs": [
    {
     "name": "stdout",
     "output_type": "stream",
     "text": [
      "{1: 'a', 2: 'b', 3: 'c'}\n",
      "hay clave duplicadas no se puede invertir el diccionario\n",
      "None\n"
     ]
    }
   ],
   "source": [
    "diccionario_1 = {'a': 1, 'b': 2, 'c': 3}\n",
    "diccionario_2 = {'x': 'apple', 'y': 'banana', 'z': 'banana'}\n",
    "\n",
    "def invertir_diccionario(diccionario): \n",
    "    if len(set(diccionario.values())) != len(diccionario.values()):  # si la cantidad de valores unicos ( del set) es diferente de la cantidad total de valores del dicionario, entonces hay duplicados y se imprime el mensaje \n",
    "        print(\"hay clave duplicadas no se puede invertir el diccionario\")\n",
    "        return None  # decimos que nos devuelve none si no nos devulve el set quitando duplicados\n",
    "        \n",
    "\n",
    "# con la funcion zip invertimos claves y valores\n",
    "    diccionario_invertido = dict(zip(diccionario.values(), diccionario.keys()))\n",
    "    return diccionario_invertido\n",
    "\n",
    "\n",
    "# llamamos a la funcion con los dos distintos diccionarios\n",
    "print(invertir_diccionario(diccionario_1)) \n",
    "print(invertir_diccionario(diccionario_2))\n",
    "\n",
    "\n",
    "# len(set(diccionario.values() nos da la cantidad de valores unicos porque lo convertimos a set ( elimina duplicados)\n",
    "\n",
    "# len(diccionario.values()) esto nos da la cantidad de valores del diccionario"
   ]
  },
  {
   "cell_type": "markdown",
   "metadata": {},
   "source": [
    "## NIVEL 2"
   ]
  },
  {
   "cell_type": "markdown",
   "metadata": {},
   "source": [
    "Exercici 1\n",
    "Diccionari invers amb duplicats\n",
    "\n",
    "Continuant amb l'exercici 4 del nivell 1: al client es va oblidar de comentar un detall i resulta que els valors en el diccionari original poden duplicar-se i més, per la qual cosa les claus intercanviades poden tenir duplicats. En aquest cas, en l'exercici anterior imprimies un missatge d'advertiment, ara, els valors del diccionari resultant hauran d'emmagatzemar-se com una llista. Tingues en compte que si és un valor únic no ha de ser una llista."
   ]
  },
  {
   "cell_type": "code",
   "execution_count": 15,
   "metadata": {},
   "outputs": [
    {
     "name": "stdout",
     "output_type": "stream",
     "text": [
      "{'apple': 'x', 'banana': ['y', 'z']}\n"
     ]
    }
   ],
   "source": [
    "diccionario = {'x': 'apple', 'y': 'banana', 'z': 'banana'}\n",
    "\n",
    "#utilizamos modulo defaultdict \n",
    "from collections import defaultdict\n",
    "\n",
    "# creamos un dict que por defecto tiene una lista como valor\n",
    "def invertir_dicionario(diccionario):\n",
    "    dic_nuevo= defaultdict(list) \n",
    "    \n",
    "    # itermaos sobre diccionario \n",
    "    for clave, valor in diccionario.items():  \n",
    "        dic_nuevo[valor].append(clave) # Agrupamos las claves que comparten el mismo valor y las ponemos en la lista como valor del nuevo diccionario.\n",
    "    # iteramos sobre el nuevo dic con condicion para ver si la lista está compuesta por un nunico valor     \n",
    "    for clave, valor in dic_nuevo.items(): \n",
    "        if len(valor) ==1: \n",
    "            dic_nuevo[clave]=valor[0] # Si la lista tiene solo un valor, reemplazamos la lista por ese valor único (tomando el valor en la posición 0).\n",
    "            \n",
    "                \n",
    "    return dict(dic_nuevo) # convertimos a diccionario normal \n",
    "\n",
    "resultado= invertir_dicionario(diccionario)\n",
    "print(resultado) \n",
    "            \n",
    "\n",
    "\n",
    "\n",
    "    \n",
    "        \n",
    "\n"
   ]
  },
  {
   "cell_type": "markdown",
   "metadata": {},
   "source": [
    "Exercici 2\n",
    "Conversió de tipus de dades\n",
    "\n",
    "El client rep una llista de dades i necessita generar dues llistes, la primera on estaran tots els elements que es van poder convertir en flotants i l'altra on estan els elements que no es van poder convertir. Exemple de la llista que rep el client: [ '1.3', 'one' , '1e10' , 'seven', '3-1/2', ('2',1,1.4,'not-a-number'), [1,2,'3','3.4']]"
   ]
  },
  {
   "cell_type": "code",
   "execution_count": 16,
   "metadata": {},
   "outputs": [
    {
     "name": "stdout",
     "output_type": "stream",
     "text": [
      "Los flotantes son: [1.3, 10000000000.0, 2.0, 1.0, 1.4, 1.0, 2.0, 3.0, 3.4]\n",
      "Los no flotantes son: ['one', 'seven', '3-1/2', 'not-a-number']\n"
     ]
    }
   ],
   "source": [
    "# Función para convertir los datos a flotantes y separar en listas\n",
    "def convertir_a_flotante(datos):\n",
    "    flotantes = []\n",
    "    no_flotantes = []\n",
    "    \n",
    "    # iteramos sobre datos\n",
    "    for dato in datos:\n",
    "        if isinstance(dato, (list, tuple)):  # Si el dato es una lista o tupla, iteramos sobre sus elementos\n",
    "            for sub_dato in dato:\n",
    "                try:\n",
    "                    flotantes.append(float(sub_dato))  # Intentamos convertir a flotante\n",
    "                except ValueError:\n",
    "                    no_flotantes.append(sub_dato)  # Si no se puede convertir, lo agregamos a no_flotantes\n",
    "        else:\n",
    "            try:\n",
    "                flotantes.append(float(dato))  # Intentamos convertir a flotante\n",
    "            except ValueError:\n",
    "                no_flotantes.append(dato)  # Si no se puede convertir, lo agregamos a no_flotantes\n",
    "    \n",
    "    return flotantes, no_flotantes  # Devolvemos las dos listas\n",
    "\n",
    "# Función principal\n",
    "def principal():\n",
    "    datos =['1.3', 'one', '1e10', 'seven', '3-1/2', ('2', 1, 1.4, 'not-a-number'), [1, 2, '3', '3.4']]  \n",
    "    flotantes, no_flotantes = convertir_a_flotante(datos)  # Llamamos a la función y desempaquetamos las listas\n",
    "\n",
    "    # Imprimimos los resultados\n",
    "    print(f\"Los flotantes son: {flotantes}\")\n",
    "    print(f\"Los no flotantes son: {no_flotantes}\")\n",
    "\n",
    "# Llamamos a la función principal\n",
    "principal()\n",
    "\n"
   ]
  },
  {
   "cell_type": "markdown",
   "metadata": {},
   "source": [
    "# NIVEL 3"
   ]
  },
  {
   "cell_type": "markdown",
   "metadata": {},
   "source": [
    "Exercici 1\n",
    "Comptador i endreçador de paraules d'un text.\n",
    "\n",
    "El client va quedar content amb el comptador de paraules, però ara vol llegir arxius TXT i que calculi la freqüència de cada paraula ordenades dins de les entrades habituals del diccionari segons la lletra amb la qual comencen, és a dir, les claus han d'anar de la A a la Z i dins de la A hem d'anar de la A la Z. Per exemple, per a l'arxiu \"tu_me_quieres_blanca.txt\" la sortida esperada seria:"
   ]
  },
  {
   "cell_type": "code",
   "execution_count": 3,
   "metadata": {},
   "outputs": [
    {
     "name": "stdout",
     "output_type": "stream",
     "text": [
      "{'a': {'a': 3, 'agua': 1, 'al': 2, 'alba': 4, 'alcobas': 1, 'alimenta': 1, 'alma': 1, 'amarga': 1, 'azucena': 1}, 'b': {'baco': 1, 'banquete': 1, 'bebe': 1, 'blanca': 3, 'boca': 1, 'bosques': 1, 'buen': 1}, 'c': {'cabañas': 1, 'carnes': 2, 'casta': 3, 'cerrada': 1, 'con': 4, 'conservas': 1, 'copas': 1, 'corola': 1, 'corriste': 1, 'cuando': 2, 'cubierto': 1, 'cuerpo': 1, 'cuáles': 1}, 'd': {'de': 8, 'dejaste': 1, 'del': 1, 'diga': 1, 'dios': 2, 'duerme': 1}, 'e': {'el': 4, 'ellas': 1, 'en': 4, 'engaño': 1, 'enredada': 1, 'entonces': 1, 'escarcha': 1, 'espumas': 1, 'esqueleto': 1, 'estrago': 1}, 'f': {'festejando': 1, 'filtrado': 1, 'frutos': 1}, 'h': {'habla': 1, 'hacia': 1, 'haya': 1, 'hayas': 1, 'hermana': 1, 'hombre': 1, 'hubiste': 1, 'huye': 1}, 'i': {'intacto': 1}, 'j': {'jardines': 1}, 'l': {'la': 3, 'labios': 1, 'las': 7, 'lo': 2, 'los': 4, 'luna': 1, 'lévate': 1, 'límpiate': 1}, 'm': {'mano': 1, 'manos': 1, 'margarita': 1, 'me': 10, 'mi': 1, 'mieles': 1, 'milagros': 1, 'mojada': 1, 'montaña': 1, 'morados': 1}, 'n': {'negros': 1, 'ni': 2, 'no': 1, 'nácar': 1, 'nívea': 2}, 'p': {'perdone': 2, 'perfume': 1, 'por': 2, 'pretendes': 3, 'preténdeme': 3, 'puesto': 1, 'pájaros': 1, 'pámpanos': 1}, 'q': {'que': 6, 'quedó': 1, 'quieres': 6}, 'r': {'rayo': 1, 'raíz': 1, 'renueva': 1, 'rocas': 1, 'rojo': 1}, 's': {'salitre': 1, 'se': 2, 'sea': 1, 'sean': 1, 'sobre': 2, 'sé': 1}, 't': {'te': 3, 'tejidos': 1, 'tenue': 1, 'tierra': 1, 'toca': 1, 'todas': 2, 'todavía': 1, 'tornadas': 1, 'tú': 8}, 'u': {'un': 1, 'una': 1}, 'v': {'vestido': 1, 'vete': 1, 'vive': 1}, 'y': {'y': 5}}\n"
     ]
    }
   ],
   "source": [
    "# Abrimos el archivo con with open y lo guardamos en la variable archivo\n",
    "with open(r\"C:\\Users\\giuia\\OneDrive\\ESPECIALIZACION\\PYTHON\\Sprint_7\\tu_me_quieres_blanca.txt\", encoding=\"utf-8\") as archivo: # especificamos codificación de caracteres para evirar errores en caso de caracteres especiales como tilded $ etc \n",
    "    \n",
    "    diccionario = contar_palabras(archivo.read()) # leemos el archivo y utilizamos la funcion del ejercicios anterior(contar_palabras) para contar las palabras y nos devulve un dicionario\n",
    "\n",
    "# Ordenamos el diccionario alfabeticamente por clave, nos devulve listas de tuplas que reconvertimos a diccionario con dict\n",
    "diccionario_ordenado = dict(sorted(diccionario.items()))\n",
    "\n",
    "# creamos diccionario vacio \n",
    "diccionario_final = {}\n",
    "\n",
    "# Iteramos sobre el diccionario ordenado \n",
    "for palabra, numero in diccionario_ordenado.items():\n",
    "    letra_inicial = palabra[0]  # Obtenemos la primera letra de la palabra (la posición 0)\n",
    "    if letra_inicial not in diccionario_final: # condición, si la primera letra no esta en el diccionario final  \n",
    "        diccionario_final[letra_inicial] = {}  # creamos un diccionario anidado para esta letra donde almacenamos las palabras que empiezan con esa letra\n",
    "\n",
    "    diccionario_final[letra_inicial][palabra] = numero  # añadimos la palabra y el número de veces que aparece al diccionario anidado\n",
    "\n",
    "print(diccionario_final)\n"
   ]
  }
 ],
 "metadata": {
  "kernelspec": {
   "display_name": "myenv",
   "language": "python",
   "name": "python3"
  },
  "language_info": {
   "codemirror_mode": {
    "name": "ipython",
    "version": 3
   },
   "file_extension": ".py",
   "mimetype": "text/x-python",
   "name": "python",
   "nbconvert_exporter": "python",
   "pygments_lexer": "ipython3",
   "version": "3.10.13"
  }
 },
 "nbformat": 4,
 "nbformat_minor": 2
}
