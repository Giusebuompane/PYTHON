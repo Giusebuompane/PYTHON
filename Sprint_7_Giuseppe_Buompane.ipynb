{
 "cells": [
  {
   "cell_type": "markdown",
   "metadata": {},
   "source": [
    "# NIVEL 1"
   ]
  },
  {
   "cell_type": "markdown",
   "metadata": {},
   "source": [
    "- Exercici 1\n",
    "Calculadora de l'índex de massa corporal\n",
    "\n",
    "Escriu una funció que calculi l'IMC ingressat per l'usuari/ària, és a dir, qui ho executi haurà d'ingressar aquestes dades. Pots obtenir més informació del seu càlcul en:\n",
    "\n",
    "-> Índice de masa corporal IMC que es y como se calcula.\n",
    "\n",
    "La funció ha de classificar el resultat en les seves respectives categories"
   ]
  },
  {
   "cell_type": "code",
   "execution_count": 40,
   "metadata": {},
   "outputs": [
    {
     "name": "stdout",
     "output_type": "stream",
     "text": [
      "Tu peso es 80.0 kg, tu altura es 1.75 mt, tu IMC es: 26.12, estas en la categoria : Sobrepeso\n"
     ]
    }
   ],
   "source": [
    "\n",
    "\n",
    "# Definimos función para calcular IMC\n",
    "def calcular_imc(peso, altura): # nombre función con parametros\n",
    "    imc = peso / (altura ** 2) # IMC = peso / altura al cuandrado (altura * altura)\n",
    "    if imc < 18.5: # con los if/elif ponemos condiciones para categorias\n",
    "        categoria = \"Bajo Peso\"\n",
    "    elif imc >= 18.5 and imc <= 24.9:\n",
    "        categoria = \"Peso normal\"\n",
    "    elif imc >= 25 and imc <= 29.9:\n",
    "        categoria = \"Sobrepeso\"\n",
    "    elif imc > 30:\n",
    "        categoria = \"Obesidad\"\n",
    "    return [round(imc,2),categoria]  # Utilizamos el return con una lista donde ponemos los dos valores (imc y categ.)para poder llamar/utilizar el resultado de la funcion fuera de ella (Redondeamos a 2 decimales el resultado)\n",
    "try: # ponemos el try para que si el usuario inserta un valor no valido no de error y salga el mensaje\n",
    "    peso = float(input(\"Inserta tu peso en kg: \"))  \n",
    "    altura = float(input(\"Inserta tu altura en metros (ejemplo: 1.80): \"))  \n",
    "    # Llamamos a la función i guardamos el resultado dentro de la variable lista_imc\n",
    "    lista_imc = calcular_imc(peso, altura)\n",
    "    print(f\"Tu peso es {peso} kg, tu altura es {altura} mt, tu IMC es: {lista_imc[0]}, estas en la categoria : {lista_imc[1]}\") # en la posicion 0 de la lista tenemos el imc y en la 1 la categorias\n",
    "except ValueError:\n",
    "    print(\"Por favor, introduce un número válido\")"
   ]
  },
  {
   "cell_type": "markdown",
   "metadata": {},
   "source": [
    "- Exercici 2\n",
    "Convertidor de temperatures.\n",
    "\n",
    "Existeixen diverses unitats de temperatura utilitzades en diferents contextos i regions. Les més comunes són Celsius (°C), Fahrenheit (°F) i Kelvin (K). També existeixen altres unitats com Rankine (°Ra) i Réaumur (°Re). Selecciona almenys 2 conversors, de tal manera que en introduir una temperatura retorni, com a mínim, dues conversions."
   ]
  },
  {
   "cell_type": "code",
   "execution_count": 41,
   "metadata": {},
   "outputs": [
    {
     "name": "stdout",
     "output_type": "stream",
     "text": [
      "La conversión a Fahrenheit es: 122.0°F, la conversión a Kelvin es: 323.15 K\n"
     ]
    }
   ],
   "source": [
    "\n",
    "# creamos una funcion que convierte grados a fahrenheit y kelvin\n",
    "def conversion(grados, tipo):\n",
    "    if tipo == \"C\":  # Convertimos de Celsius a Fahrenheit y Kelvin\n",
    "        fahrenheit = (grados * 9 / 5) + 32  \n",
    "        kelvin = grados + 273.15\n",
    "        return [round(fahrenheit, 2), round(kelvin, 2)] # devuelve una lista con dos elementos(las dos conversiones), con round redondeamos decimales a 2\n",
    "    \n",
    "    elif tipo == \"F\":  # Convertimos de Fahrenheit a Celsius y Kelvin\n",
    "        celsius = (grados - 32) * 5 / 9\n",
    "        kelvin = (grados - 32) * 5 / 9 + 273.15\n",
    "        return [round(celsius, 2), round(kelvin, 2)] \n",
    "    \n",
    "try:    # hacemos un control de datos con try y el else   \n",
    "    tipo_grado = input(\"Inserta el tipo de grado a convertir (C/F): \").strip().upper() # eliminamos espacios y convertimos a mayusculas\n",
    "    grados = float(input(\"Inserta un numero de grados: \")) \n",
    "    resultado_conversion = conversion(grados, tipo_grado) # guardamos el resultado de la funcion en la variable\n",
    "    if tipo_grado == \"C\":\n",
    "        print(f\"La conversión a Fahrenheit es: {resultado_conversion[0]}°F, la conversión a Kelvin es: {resultado_conversion[1]} K\") #posicion 0 de la lista es la conversion a fahrenheit y la 1 a kelvin\n",
    "    elif tipo_grado == \"F\":\n",
    "        print(f\"La conversión a Celsius es: {resultado_conversion[0]}°C, la conversión a Kelvin es: {resultado_conversion[1]} K\") #posicion 0 de la lista es la conversion a celsius y la 1 a kelvin\n",
    "    else:\n",
    "        print(\"Por favor, introduce C o F\")        \n",
    "except ValueError:\n",
    "    print(\"Por favor, introduce un numero válido\")\n",
    "\n",
    "    \n",
    "    "
   ]
  },
  {
   "cell_type": "markdown",
   "metadata": {},
   "source": [
    "- Exercici 3\n",
    "Comptador de paraules d'un text.\n",
    "\n",
    "Escriu una funció que donat un text, mostri les vegades que apareix cada paraula."
   ]
  },
  {
   "cell_type": "code",
   "execution_count": 42,
   "metadata": {},
   "outputs": [
    {
     "name": "stdout",
     "output_type": "stream",
     "text": [
      "Las palabras que aparecen en el texto son: Counter({'hola': 2, 'me': 2, 'llamo': 2, 'juan': 1, 'giuseppe': 1})\n"
     ]
    }
   ],
   "source": [
    "texto = input(\"introduce un texto\") # pedimos al usuario que inserte un texto\n",
    "\n",
    "# Utilizamos modulos re/collection para utilizar las fucniones re.findall y counter()   \n",
    "import re\n",
    "from collections import Counter\n",
    "\n",
    "def contar_palabras(texto):\n",
    "    # Extraemos solo palabras ignorando cualquier signo/puntuación y devuelve una lista limpia que podemos contar con counter \n",
    "    palabras = re.findall(r'\\b\\w+\\b', texto.lower()) # lower convierte el texto a minuscula antes de que se ejecute re.findall\n",
    "    # Contamos las palabras con Counter\n",
    "    return Counter(palabras)\n",
    "\n",
    "num_palabra = contar_palabras(texto)\n",
    "\n",
    "print(f\"Las palabras que aparecen en el texto son: {num_palabra}\")\n"
   ]
  },
  {
   "cell_type": "markdown",
   "metadata": {},
   "source": [
    "- Exercici 4\n",
    "Diccionari invers.\n",
    "\n",
    "Resulta que el client té una enquesta molt antiga que s'emmagatzema en un diccionari i els resultats els necessita al revés, és a dir, intercanviats les claus i els valors. Els valors i claus en el diccionari original són únics; si aquest no és el cas, la funció hauria d'imprimir un missatge d'advertiment."
   ]
  },
  {
   "cell_type": "code",
   "execution_count": null,
   "metadata": {},
   "outputs": [
    {
     "name": "stdout",
     "output_type": "stream",
     "text": [
      "{1: 'a', 2: 'b', 3: 'c'}\n",
      "hay clave duplicadas no se puede invertir el diccionario\n",
      "None\n"
     ]
    }
   ],
   "source": [
    "diccionario_1 = {'a': 1, 'b': 2, 'c': 3}\n",
    "diccionario_2 = {'x': 'apple', 'y': 'banana', 'z': 'banana'}\n",
    "\n",
    "def invertir_diccionario(diccionario): \n",
    "    if len(set(diccionario.values())) != len(diccionario.values()):  # si la cantidad de valores unicos ( del set) es diferente de la cantidad total de valores del dicionario, entonces hay duplicados y se imprime el mensaje \n",
    "        print(\"hay clave duplicadas no se puede invertir el diccionario\")\n",
    "        return None  # decimos que nos devuelve none si no nos devulve el set quitando duplicados\n",
    "        \n",
    "\n",
    "# con la funcion zip invertimos claves y valores\n",
    "    diccionario_invertido = dict(zip(diccionario.values(), diccionario.keys()))\n",
    "    return diccionario_invertido\n",
    "\n",
    "\n",
    "# llamamos a la funcion con los dos distintos diccionarios\n",
    "print(invertir_diccionario(diccionario_1)) \n",
    "print(invertir_diccionario(diccionario_2))\n",
    "\n",
    "\n",
    "# len(set(diccionario.values() nos da la cantidad de valores unicos porque lo convertimos a set ( elimina duplicados)\n",
    "\n",
    "# len(diccionario.values()) esto nos da la cantidad de valores del diccionario"
   ]
  },
  {
   "cell_type": "markdown",
   "metadata": {},
   "source": [
    "## NIVEL 2"
   ]
  },
  {
   "cell_type": "markdown",
   "metadata": {},
   "source": [
    "Exercici 1\n",
    "Diccionari invers amb duplicats\n",
    "\n",
    "Continuant amb l'exercici 4 del nivell 1: al client es va oblidar de comentar un detall i resulta que els valors en el diccionari original poden duplicar-se i més, per la qual cosa les claus intercanviades poden tenir duplicats. En aquest cas, en l'exercici anterior imprimies un missatge d'advertiment, ara, els valors del diccionari resultant hauran d'emmagatzemar-se com una llista. Tingues en compte que si és un valor únic no ha de ser una llista."
   ]
  },
  {
   "cell_type": "code",
   "execution_count": 39,
   "metadata": {},
   "outputs": [
    {
     "name": "stdout",
     "output_type": "stream",
     "text": [
      "{'apple': 'x', 'banana': ['y', 'z']}\n"
     ]
    }
   ],
   "source": [
    "diccionario = {'x': 'apple', 'y': 'banana', 'z': 'banana'}\n",
    "\n",
    "#utilizamos modulo defaultdict \n",
    "from collections import defaultdict\n",
    "\n",
    "# creamos un dict que por defecto tiene una lista como valor\n",
    "def invertir_dicionario(diccionario):\n",
    "    dic_nuevo= defaultdict(list) \n",
    "    \n",
    "    # itermaos sobre diccionario \n",
    "    for clave, valor in diccionario.items():  \n",
    "        dic_nuevo[valor].append(clave) # Agrupamos las claves que comparten el mismo valor y las ponemos en la lista como valor del nuevo diccionario.\n",
    "    # iteramos sobre el nuevo dic con condicion para ver si la lista está compuesta por un nunico valor     \n",
    "    for clave, valor in dic_nuevo.items(): \n",
    "        if len(valor) ==1: \n",
    "            dic_nuevo[clave]=valor[0] # Si la lista tiene solo un valor, reemplazamos la lista por ese valor único (tomando el valor en la posición 0).\n",
    "            \n",
    "                \n",
    "    return dict(dic_nuevo) # convertimos a diccionario normal \n",
    "\n",
    "resultado= invertir_dicionario(diccionario)\n",
    "print(resultado) \n",
    "            \n",
    "\n",
    "\n",
    "\n",
    "    \n",
    "        \n",
    "\n"
   ]
  },
  {
   "cell_type": "markdown",
   "metadata": {},
   "source": [
    "Exercici 2\n",
    "Conversió de tipus de dades\n",
    "\n",
    "El client rep una llista de dades i necessita generar dues llistes, la primera on estaran tots els elements que es van poder convertir en flotants i l'altra on estan els elements que no es van poder convertir. Exemple de la llista que rep el client: [ '1.3', 'one' , '1e10' , 'seven', '3-1/2', ('2',1,1.4,'not-a-number'), [1,2,'3','3.4']]"
   ]
  },
  {
   "cell_type": "code",
   "execution_count": null,
   "metadata": {},
   "outputs": [
    {
     "name": "stdout",
     "output_type": "stream",
     "text": [
      "Los flotantes son: [1.3, 10000000000.0, 2.0, 1.0, 1.4, 1.0, 2.0, 3.0, 3.4]\n",
      "Los no flotantes son: ['one', 'seven', '3-1/2', 'not-a-number']\n"
     ]
    }
   ],
   "source": [
    "\n",
    "datos = ['1.3', 'one', '1e10', 'seven', '3-1/2', ('2', 1, 1.4, 'not-a-number'), [1, 2, '3', '3.4']]\n",
    "\n",
    "def convertir_a_flotante(datos):\n",
    "    flotantes = []  # Lista para elementos convertibles \n",
    "    no_flotantes = []  # Lista para no convertibles\n",
    "    \n",
    " # Iteramos sobre la lista datos\n",
    "    for elemento in datos:  \n",
    "        try:    \n",
    "            if isinstance(elemento,(str,int,float)):  # Verificamos si el elemento es una cadena,int, o float ( '1e10' = notacion cientifica)   \n",
    "                elemento= float(elemento)  # variable para guardar el valor que convertimos a flotante\n",
    "                flotantes.append(elemento)  # añadimos a lista flotantes\n",
    "            elif isinstance(elemento,(list,tuple)): # aqui comprobamos el elemento si es una lista o una tupla\n",
    "                    flotantes_2, no_Flotantes_2 = convertir_a_flotante(elemento) #Si se cumple, reutilizamos la funcion, la llamamos de manera recursiva \n",
    "                    flotantes.extend(flotantes_2) # obtenemos una lista que añadimos a la lista original de flotantes  \n",
    "                    no_flotantes.extend(no_Flotantes_2) # lo mismo con la no flotantes     \n",
    "            else:\n",
    "                no_flotantes.append(elemento)  # Si no cumple todas las condiciones va a no flotante \n",
    "        except ValueError:  # Si la conversión falla,\n",
    "            no_flotantes.append(elemento)  # el elemento va a no flotantes directaente\n",
    "    return flotantes, no_flotantes  # dvuelve una tupla\n",
    "\n",
    "# llamamos a la funcion y desempaquetamos la tupla en dos listas\n",
    "flotantes, no_flotantes = convertir_a_flotante(datos)\n",
    "\n",
    "print(f\"Los flotantes son: {flotantes}\")\n",
    "print(f\"Los no flotantes son: {no_flotantes}\")\n"
   ]
  },
  {
   "cell_type": "markdown",
   "metadata": {},
   "source": [
    "## NIVEL 3"
   ]
  },
  {
   "cell_type": "markdown",
   "metadata": {},
   "source": [
    "Exercici 1\n",
    "Comptador i endreçador de paraules d'un text.\n",
    "\n",
    "El client va quedar content amb el comptador de paraules, però ara vol llegir arxius TXT i que calculi la freqüència de cada paraula ordenades dins de les entrades habituals del diccionari segons la lletra amb la qual comencen, és a dir, les claus han d'anar de la A a la Z i dins de la A hem d'anar de la A la Z. Per exemple, per a l'arxiu \"tu_me_quieres_blanca.txt\" la sortida esperada seria:"
   ]
  },
  {
   "cell_type": "code",
   "execution_count": null,
   "metadata": {},
   "outputs": [
    {
     "name": "stdout",
     "output_type": "stream",
     "text": [
      "{'a': {'a': 3, 'agua': 1, 'al': 2, 'alba': 4, 'alcobas': 1, 'alimenta': 1, 'alma': 1, 'amarga': 1, 'azucena': 1}, 'b': {'baco': 1, 'banquete': 1, 'bebe': 1, 'blanca': 3, 'boca': 1, 'bosques': 1, 'buen': 1}, 'c': {'cabañas': 1, 'carnes': 2, 'casta': 3, 'cerrada': 1, 'con': 4, 'conservas': 1, 'copas': 1, 'corola': 1, 'corriste': 1, 'cuando': 2, 'cubierto': 1, 'cuerpo': 1, 'cuáles': 1}, 'd': {'de': 8, 'dejaste': 1, 'del': 1, 'diga': 1, 'dios': 2, 'duerme': 1}, 'e': {'el': 4, 'ellas': 1, 'en': 4, 'engaño': 1, 'enredada': 1, 'entonces': 1, 'escarcha': 1, 'espumas': 1, 'esqueleto': 1, 'estrago': 1}, 'f': {'festejando': 1, 'filtrado': 1, 'frutos': 1}, 'h': {'habla': 1, 'hacia': 1, 'haya': 1, 'hayas': 1, 'hermana': 1, 'hombre': 1, 'hubiste': 1, 'huye': 1}, 'i': {'intacto': 1}, 'j': {'jardines': 1}, 'l': {'la': 3, 'labios': 1, 'las': 7, 'lo': 2, 'los': 4, 'luna': 1, 'lévate': 1, 'límpiate': 1}, 'm': {'mano': 1, 'manos': 1, 'margarita': 1, 'me': 10, 'mi': 1, 'mieles': 1, 'milagros': 1, 'mojada': 1, 'montaña': 1, 'morados': 1}, 'n': {'negros': 1, 'ni': 2, 'no': 1, 'nácar': 1, 'nívea': 2}, 'p': {'perdone': 2, 'perfume': 1, 'por': 2, 'pretendes': 3, 'preténdeme': 3, 'puesto': 1, 'pájaros': 1, 'pámpanos': 1}, 'q': {'que': 6, 'quedó': 1, 'quieres': 6}, 'r': {'rayo': 1, 'raíz': 1, 'renueva': 1, 'rocas': 1, 'rojo': 1}, 's': {'salitre': 1, 'se': 2, 'sea': 1, 'sean': 1, 'sobre': 2, 'sé': 1}, 't': {'te': 3, 'tejidos': 1, 'tenue': 1, 'tierra': 1, 'toca': 1, 'todas': 2, 'todavía': 1, 'tornadas': 1, 'tú': 8}, 'u': {'un': 1, 'una': 1}, 'v': {'vestido': 1, 'vete': 1, 'vive': 1}, 'y': {'y': 5}}\n"
     ]
    }
   ],
   "source": [
    "# Abrimos el archivo con with open y lo guardamos en la variable archivo\n",
    "with open(r\"C:\\Users\\giuia\\OneDrive\\ESPECIALIZACION\\PYTHON\\Sprint_7\\tu_me_quieres_blanca.txt\", encoding=\"utf-8\") as archivo: # especificamos codificación de caracteres para evirar errores en caso de caracteres especiales como tilded $ etc \n",
    "    \n",
    "    diccionario = contar_palabras(archivo.read()) # leemos el archivo y utilizamos la funcion del ejercicios anterior(contar_palabras) para contar las palabras y nos devulve un dicionario\n",
    "\n",
    "# Ordenamos el diccionario alfabeticamente por clave, nos devulve listas de tuplas que reconvertimos a diccionario con dict\n",
    "diccionario_ordenado = dict(sorted(diccionario.items()))\n",
    "\n",
    "# creamos diccionario vacio \n",
    "diccionario_final = {}\n",
    "\n",
    "# Iteramos sobre el diccionario ordenado \n",
    "for palabra, numero in diccionario_ordenado.items():\n",
    "    letra_inicial = palabra[0]  # Obtenemos la primera letra de la palabra (la posición 0)\n",
    "    if letra_inicial not in diccionario_final: # condición, si la primera letra no esta en el diccionario final  \n",
    "        diccionario_final[letra_inicial] = {}  # creamos un diccionario anidado para esta letra donde almacenamos las palabras que empiezan con esa letra\n",
    "\n",
    "    diccionario_final[letra_inicial][palabra] = numero  # añadimos la palabra y el número de veces que aparece al diccionario anidado\n",
    "\n",
    "print(diccionario_final)\n"
   ]
  }
 ],
 "metadata": {
  "kernelspec": {
   "display_name": "myenv",
   "language": "python",
   "name": "python3"
  },
  "language_info": {
   "codemirror_mode": {
    "name": "ipython",
    "version": 3
   },
   "file_extension": ".py",
   "mimetype": "text/x-python",
   "name": "python",
   "nbconvert_exporter": "python",
   "pygments_lexer": "ipython3",
   "version": "3.10.13"
  }
 },
 "nbformat": 4,
 "nbformat_minor": 2
}
